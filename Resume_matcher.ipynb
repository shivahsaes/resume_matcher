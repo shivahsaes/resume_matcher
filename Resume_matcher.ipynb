{
  "nbformat": 4,
  "nbformat_minor": 0,
  "metadata": {
    "colab": {
      "name": "Resume_matcher.ipynb",
      "provenance": []
    },
    "kernelspec": {
      "name": "python3",
      "display_name": "Python 3"
    }
  },
  "cells": [
    {
      "cell_type": "code",
      "metadata": {
        "id": "kXoKMnz4XKnS",
        "colab_type": "code",
        "colab": {
          "base_uri": "https://localhost:8080/",
          "height": 191
        },
        "outputId": "dbfcde17-66e4-494a-92f6-6a7434b42218"
      },
      "source": [
        "pip install docx2txt"
      ],
      "execution_count": null,
      "outputs": [
        {
          "output_type": "stream",
          "text": [
            "Collecting docx2txt\n",
            "  Downloading https://files.pythonhosted.org/packages/7d/7d/60ee3f2b16d9bfdfa72e8599470a2c1a5b759cb113c6fe1006be28359327/docx2txt-0.8.tar.gz\n",
            "Building wheels for collected packages: docx2txt\n",
            "  Building wheel for docx2txt (setup.py) ... \u001b[?25l\u001b[?25hdone\n",
            "  Created wheel for docx2txt: filename=docx2txt-0.8-cp36-none-any.whl size=3963 sha256=8fba11b48f101fb81abbeaa4a688670cc62322ae3ff6c22f2bcd5262828a72ab\n",
            "  Stored in directory: /root/.cache/pip/wheels/b2/1f/26/a051209bbb77fc6bcfae2bb7e01fa0ff941b82292ab084d596\n",
            "Successfully built docx2txt\n",
            "Installing collected packages: docx2txt\n",
            "Successfully installed docx2txt-0.8\n"
          ],
          "name": "stdout"
        }
      ]
    },
    {
      "cell_type": "code",
      "metadata": {
        "id": "RjbsBM_uXS3U",
        "colab_type": "code",
        "colab": {}
      },
      "source": [
        "import docx2txt"
      ],
      "execution_count": null,
      "outputs": []
    },
    {
      "cell_type": "markdown",
      "metadata": {
        "id": "cc4Crb5oXVv0",
        "colab_type": "text"
      },
      "source": [
        "Uploading the data\n",
        "  1.Resume.docx\n",
        "  2.Job_description.docx"
      ]
    },
    {
      "cell_type": "code",
      "metadata": {
        "id": "jm2RxzLGXgIl",
        "colab_type": "code",
        "colab": {}
      },
      "source": [
        "from google.colab import files\n",
        "uploaded=files.upload()"
      ],
      "execution_count": null,
      "outputs": []
    },
    {
      "cell_type": "code",
      "metadata": {
        "id": "ucnUApx2XmwS",
        "colab_type": "code",
        "colab": {}
      },
      "source": [
        "#storing the data\n",
        "resume=docx2txt.process(\"resume.docx\")\n",
        "print(resume)\n",
        " \n",
        "job=docx2txt.process(\"job_desctiption.docx\")\n",
        "print(job)"
      ],
      "execution_count": null,
      "outputs": []
    },
    {
      "cell_type": "code",
      "metadata": {
        "id": "8QtZASGxYB4n",
        "colab_type": "code",
        "colab": {}
      },
      "source": [
        "#creating list of text\n",
        " \n",
        "text=[]\n",
        "text=[resume,job]"
      ],
      "execution_count": null,
      "outputs": []
    },
    {
      "cell_type": "code",
      "metadata": {
        "id": "RaPtsKp5YKSc",
        "colab_type": "code",
        "colab": {}
      },
      "source": [
        "from sklearn.feature_extraction.text import CountVectorizer\n",
        " \n",
        "cv=CountVectorizer()\n",
        " \n",
        "count_matrix=cv.fit_transform(text)"
      ],
      "execution_count": null,
      "outputs": []
    },
    {
      "cell_type": "code",
      "metadata": {
        "id": "j_UPNCe0YgEI",
        "colab_type": "code",
        "colab": {
          "base_uri": "https://localhost:8080/",
          "height": 51
        },
        "outputId": "d90d0c49-1ba1-40a9-f43d-d592e445d2ef"
      },
      "source": [
        "from sklearn.metrics.pairwise import cosine_similarity\n",
        " \n",
        "print(\"\\n Simliarity Score:\")\n",
        " \n",
        "print(cosine_similarity(count_matrix))"
      ],
      "execution_count": null,
      "outputs": [
        {
          "output_type": "stream",
          "text": [
            "\n",
            " Simliarity Score:\n"
          ],
          "name": "stdout"
        }
      ]
    },
    {
      "cell_type": "markdown",
      "metadata": {
        "id": "dLtd0EWTY40a",
        "colab_type": "text"
      },
      "source": [
        "Match Percentage"
      ]
    },
    {
      "cell_type": "code",
      "metadata": {
        "id": "ZJy_Kjw9Y5-T",
        "colab_type": "code",
        "colab": {}
      },
      "source": [
        "MP=cosine_similarity(count_matrix)[0][1]*100\n",
        "\n",
        "MP=round(MP,2)\n",
        "\n",
        "print(\"Your Resume matches about\" + str(MP) +"
      ],
      "execution_count": null,
      "outputs": []
    }
  ]
}